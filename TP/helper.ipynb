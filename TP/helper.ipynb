{
 "cells": [
  {
   "cell_type": "code",
   "execution_count": 1,
   "id": "503e1a37",
   "metadata": {},
   "outputs": [],
   "source": [
    "import pandas as pd"
   ]
  },
  {
   "cell_type": "code",
   "execution_count": 4,
   "id": "cf1ed53d",
   "metadata": {},
   "outputs": [
    {
     "name": "stdout",
     "output_type": "stream",
     "text": [
      "<class 'pandas.core.frame.DataFrame'>\n",
      "RangeIndex: 21747371 entries, 0 to 21747370\n",
      "Data columns (total 23 columns):\n",
      " #   Column                          Dtype  \n",
      "---  ------                          -----  \n",
      " 0   Unnamed: 0                      int64  \n",
      " 1   app_id                          int64  \n",
      " 2   app_name                        object \n",
      " 3   review_id                       int64  \n",
      " 4   language                        object \n",
      " 5   review                          object \n",
      " 6   timestamp_created               int64  \n",
      " 7   timestamp_updated               int64  \n",
      " 8   recommended                     bool   \n",
      " 9   votes_helpful                   int64  \n",
      " 10  votes_funny                     int64  \n",
      " 11  weighted_vote_score             float64\n",
      " 12  comment_count                   int64  \n",
      " 13  steam_purchase                  bool   \n",
      " 14  received_for_free               bool   \n",
      " 15  written_during_early_access     bool   \n",
      " 16  author.steamid                  int64  \n",
      " 17  author.num_games_owned          int64  \n",
      " 18  author.num_reviews              int64  \n",
      " 19  author.playtime_forever         float64\n",
      " 20  author.playtime_last_two_weeks  float64\n",
      " 21  author.playtime_at_review       float64\n",
      " 22  author.last_played              float64\n",
      "dtypes: bool(4), float64(5), int64(11), object(3)\n",
      "memory usage: 3.2+ GB\n",
      "None\n"
     ]
    }
   ],
   "source": [
    "df = pd.read_csv(\"../data/steam_reviews.csv\")\n",
    "print(df.info())"
   ]
  }
 ],
 "metadata": {
  "kernelspec": {
   "display_name": "base",
   "language": "python",
   "name": "python3"
  },
  "language_info": {
   "codemirror_mode": {
    "name": "ipython",
    "version": 3
   },
   "file_extension": ".py",
   "mimetype": "text/x-python",
   "name": "python",
   "nbconvert_exporter": "python",
   "pygments_lexer": "ipython3",
   "version": "3.13.5"
  }
 },
 "nbformat": 4,
 "nbformat_minor": 5
}
